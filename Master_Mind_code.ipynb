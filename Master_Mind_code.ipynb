{
 "cells": [
  {
   "cell_type": "code",
   "execution_count": 10,
   "metadata": {},
   "outputs": [
    {
     "ename": "ImportError",
     "evalue": "cannot import name 'Aer' from 'qiskit' (/Users/varditerkeropyan/Library/Python/3.9/lib/python/site-packages/qiskit/__init__.py)",
     "output_type": "error",
     "traceback": [
      "\u001b[0;31m---------------------------------------------------------------------------\u001b[0m",
      "\u001b[0;31mImportError\u001b[0m                               Traceback (most recent call last)",
      "Cell \u001b[0;32mIn[10], line 1\u001b[0m\n\u001b[0;32m----> 1\u001b[0m \u001b[38;5;28;01mfrom\u001b[39;00m \u001b[38;5;21;01mqiskit\u001b[39;00m \u001b[38;5;28;01mimport\u001b[39;00m QuantumCircuit, Aer, transpile, execute\n\u001b[1;32m      2\u001b[0m \u001b[38;5;28;01mfrom\u001b[39;00m \u001b[38;5;21;01mqiskit\u001b[39;00m\u001b[38;5;21;01m.\u001b[39;00m\u001b[38;5;21;01mvisualization\u001b[39;00m \u001b[38;5;28;01mimport\u001b[39;00m plot_histogram\n\u001b[1;32m      4\u001b[0m n_pins \u001b[38;5;241m=\u001b[39m \u001b[38;5;241m4\u001b[39m\n",
      "\u001b[0;31mImportError\u001b[0m: cannot import name 'Aer' from 'qiskit' (/Users/varditerkeropyan/Library/Python/3.9/lib/python/site-packages/qiskit/__init__.py)"
     ]
    }
   ],
   "source": [
    "from qiskit import QuantumCircuit, Aer, transpile, execute\n",
    "from qiskit.visualization import plot_histogram\n",
    "\n",
    "n_pins = 4\n",
    "n_colors = 4\n",
    "\n",
    "n_qubits = 2 * n_pins\n",
    "circuit = QuantumCircuit(n_qubits, n_pins)\n",
    "\n",
    "for i in range(n_qubits):\n",
    "    circuit.h(i)\n",
    "\n",
    "circuit.measure(range(n_pins), range(n_pins))\n",
    "\n",
    "simulator = Aer.get_backend('qasm_simulator')\n",
    "compiled_circuit = transpile(circuit, simulator)\n",
    "job = execute(compiled_circuit, simulator, shots=1024)\n",
    "result = job.result()\n",
    "\n",
    "counts = result.get_counts(circuit)\n",
    "print(\"Measurement Results:\", counts)\n",
    "\n",
    "plot_histogram(counts)\n"
   ]
  }
 ],
 "metadata": {
  "kernelspec": {
   "display_name": "Python 3",
   "language": "python",
   "name": "python3"
  },
  "language_info": {
   "codemirror_mode": {
    "name": "ipython",
    "version": 3
   },
   "file_extension": ".py",
   "mimetype": "text/x-python",
   "name": "python",
   "nbconvert_exporter": "python",
   "pygments_lexer": "ipython3",
   "version": "3.9.6"
  }
 },
 "nbformat": 4,
 "nbformat_minor": 2
}
